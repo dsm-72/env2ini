{
 "cells": [
  {
   "attachments": {},
   "cell_type": "markdown",
   "metadata": {},
   "source": [
    "# types\n",
    "\n",
    "> types."
   ]
  },
  {
   "cell_type": "code",
   "execution_count": null,
   "metadata": {},
   "outputs": [],
   "source": [
    "#| default_exp types"
   ]
  },
  {
   "cell_type": "code",
   "execution_count": null,
   "metadata": {},
   "outputs": [],
   "source": [
    "#| hide\n",
    "from nbdev.showdoc import *"
   ]
  },
  {
   "cell_type": "code",
   "execution_count": null,
   "metadata": {},
   "outputs": [],
   "source": [
    "#| export\n",
    "from typing import (\n",
    "    List, Final, Tuple, Union,\n",
    "    TypeAlias, Sequence,  Optional, \n",
    "    ClassVar,\n",
    ")"
   ]
  },
  {
   "cell_type": "code",
   "execution_count": null,
   "metadata": {},
   "outputs": [],
   "source": [
    "#| export\n",
    "# NOTE: this is a type alias for a string that represents a dependency _line_ \n",
    "#       from the `env.yml` file.\n",
    "YamlDependencyStr: TypeAlias = str\n",
    "\n",
    "IniRequirementStr: TypeAlias = str\n",
    "\n",
    "YamlFileItem: TypeAlias = Union[YamlDependencyStr, dict]\n",
    "\n",
    "YamlDependencies: TypeAlias = Sequence[YamlDependencyStr]\n",
    "\n",
    "Dependencies: TypeAlias = Sequence['Dependency']\n",
    "\n",
    "CondaDependencies: TypeAlias = Sequence['CondaDependency']\n",
    "\n",
    "IniRequirements: TypeAlias = Sequence['IniRequirement']"
   ]
  },
  {
   "cell_type": "code",
   "execution_count": null,
   "metadata": {},
   "outputs": [],
   "source": [
    "#| hide\n",
    "import nbdev; nbdev.nbdev_export()"
   ]
  }
 ],
 "metadata": {
  "kernelspec": {
   "display_name": "python3",
   "language": "python",
   "name": "python3"
  }
 },
 "nbformat": 4,
 "nbformat_minor": 2
}
