{
 "cells": [
  {
   "attachments": {},
   "cell_type": "markdown",
   "metadata": {},
   "source": [
    "# Rich\n",
    "\n",
    "> rich functions."
   ]
  },
  {
   "cell_type": "code",
   "execution_count": null,
   "metadata": {},
   "outputs": [],
   "source": [
    "#| default_exp rich"
   ]
  },
  {
   "cell_type": "code",
   "execution_count": null,
   "metadata": {},
   "outputs": [],
   "source": [
    "#| hide\n",
    "from nbdev.showdoc import *"
   ]
  },
  {
   "cell_type": "code",
   "execution_count": null,
   "metadata": {},
   "outputs": [],
   "source": [
    "#| export\n",
    "from rich.table import Table\n",
    "from rich.console import Console"
   ]
  },
  {
   "cell_type": "code",
   "execution_count": null,
   "metadata": {},
   "outputs": [],
   "source": [
    "#| export\n",
    "console = Console()"
   ]
  },
  {
   "cell_type": "code",
   "execution_count": null,
   "metadata": {},
   "outputs": [],
   "source": [
    "#| export\n",
    "\n",
    "# NOTE: utility function to print colored text\n",
    "def cprint(style:str, text:str) -> None:\n",
    "    console.print(f'[{style}]{text}[/{style}]')\n",
    "\n",
    "def print_changes(added, removed, changed, remained):\n",
    "    table = Table(title='Changes')\n",
    "    table.add_column('Package', style='cyan')\n",
    "    table.add_column('Old Version', style='magenta')\n",
    "    table.add_column('New Version', style='green')\n",
    "    table.add_column('Status', style='yellow')\n",
    "\n",
    "    for dep in added:\n",
    "        table.add_row(f':package: {dep.package}', '', dep.version, 'Added')\n",
    "    for dep in removed:\n",
    "        table.add_row(f':package: {dep.package}', dep.version, '', 'Removed')   \n",
    "    for old, new in changed:\n",
    "        table.add_row(f':package: {old.package}', old.version, new.version, 'Changed')\n",
    "    for old, new in remained:\n",
    "        table.add_row(f':package: {old.package}', old.version, new.version, 'Unchanged')\n",
    "    console.print(table)\n",
    "    # return table"
   ]
  },
  {
   "cell_type": "code",
   "execution_count": null,
   "metadata": {},
   "outputs": [],
   "source": [
    "#| hide\n",
    "import nbdev; nbdev.nbdev_export()"
   ]
  }
 ],
 "metadata": {
  "kernelspec": {
   "display_name": "python3",
   "language": "python",
   "name": "python3"
  }
 },
 "nbformat": 4,
 "nbformat_minor": 2
}
