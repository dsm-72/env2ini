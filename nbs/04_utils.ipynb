{
 "cells": [
  {
   "attachments": {},
   "cell_type": "markdown",
   "metadata": {},
   "source": [
    "# utils\n",
    "\n",
    "> util functions."
   ]
  },
  {
   "cell_type": "code",
   "execution_count": null,
   "metadata": {},
   "outputs": [],
   "source": [
    "#| default_exp utils"
   ]
  },
  {
   "cell_type": "code",
   "execution_count": null,
   "metadata": {},
   "outputs": [],
   "source": [
    "#| hide\n",
    "from nbdev.showdoc import *"
   ]
  },
  {
   "cell_type": "code",
   "execution_count": null,
   "metadata": {},
   "outputs": [],
   "source": [
    "#| export\n",
    "import os\n",
    "import configparser\n",
    "from typing import (Tuple, Optional)"
   ]
  },
  {
   "cell_type": "code",
   "execution_count": null,
   "metadata": {},
   "outputs": [],
   "source": [
    "#| export\n",
    "from env2ini.constants import SETTINGS_INI"
   ]
  },
  {
   "cell_type": "code",
   "execution_count": null,
   "metadata": {},
   "outputs": [],
   "source": [
    "#| export\n",
    "def read_ini_file(file: str = SETTINGS_INI) -> configparser.ConfigParser:    \n",
    "    ini_cfg = configparser.ConfigParser()\n",
    "    ini_cfg.read_file(file)    \n",
    "    return ini_cfg\n",
    "\n",
    "def to_macos_env_file(file: str) -> str:\n",
    "    base_dir = os.path.dirname(file)\n",
    "    yml_file = os.path.basename(file)\n",
    "    mac_file = yml_file.replace('.yml', '.mac.yml')\n",
    "    \n",
    "\n",
    "    if os.path.exists(os.path.join(base_dir, mac_file)):\n",
    "        return os.path.join(base_dir, mac_file)\n",
    "    return file"
   ]
  },
  {
   "cell_type": "code",
   "execution_count": null,
   "metadata": {},
   "outputs": [],
   "source": [
    "#| export\n",
    "def is_valid_conda_package_name_char(char: str) -> bool:\n",
    "    '''\n",
    "    Used to split a package name from a version number.\n",
    "    This is achieved by checking if a character is valid for \n",
    "    a conda package name. Since between the package name and\n",
    "    the version number there is a space, or conditional (`>`, `<`, `=`, etc).    \n",
    "    '''\n",
    "    return char.isalnum() or char in ['-', '_', '.']\n",
    "\n",
    "def split_package_str_at_first_non_alpha(package_str: str) -> Tuple[str, str]:\n",
    "    idx = next((\n",
    "        i for i, char in enumerate(package_str) \n",
    "        if not is_valid_conda_package_name_char(char)\n",
    "    ), len(package_str))\n",
    "    return package_str[:idx], package_str[idx:]"
   ]
  },
  {
   "cell_type": "code",
   "execution_count": null,
   "metadata": {},
   "outputs": [],
   "source": [
    "#| export\n",
    "def parse_aliases(alias_str: Optional[str]) -> dict:\n",
    "    if alias_str is None:\n",
    "        return {}\n",
    "\n",
    "    packages = alias_str.split(';')\n",
    "    result = {}\n",
    "    for pkg_als in pkgs:\n",
    "        pkg, als = pkg_als.split(':')\n",
    "        pkg = pkg.strip()\n",
    "        als = als.strip()\n",
    "        result[pkg] = als\n",
    "    return result"
   ]
  },
  {
   "cell_type": "code",
   "execution_count": null,
   "metadata": {},
   "outputs": [],
   "source": [
    "#| hide\n",
    "import nbdev; nbdev.nbdev_export()"
   ]
  }
 ],
 "metadata": {
  "kernelspec": {
   "display_name": "python3",
   "language": "python",
   "name": "python3"
  }
 },
 "nbformat": 4,
 "nbformat_minor": 2
}
