{
 "cells": [
  {
   "cell_type": "code",
   "execution_count": null,
   "metadata": {},
   "outputs": [],
   "source": [
    "#| hide\n",
    "from env2ini.dataclasses import *"
   ]
  },
  {
   "attachments": {},
   "cell_type": "markdown",
   "metadata": {},
   "source": [
    "# env2ini\n",
    "\n",
    "> exoport a conda environment file dependencies for an ini file"
   ]
  },
  {
   "attachments": {},
   "cell_type": "markdown",
   "metadata": {},
   "source": [
    "## Developer Guide"
   ]
  },
  {
   "attachments": {},
   "cell_type": "markdown",
   "metadata": {},
   "source": [
    "### Setup\n",
    "```sh\n",
    "# create conda environment\n",
    "$ mamba env create -f env.yml\n",
    "\n",
    "# update conda environment\n",
    "$ mamba env update -n env2ini --file env.yml\n",
    "# $ mamba env update -n env2ini --file env.mac.yml\n",
    "```"
   ]
  },
  {
   "attachments": {},
   "cell_type": "markdown",
   "metadata": {},
   "source": [
    "### Install"
   ]
  },
  {
   "attachments": {},
   "cell_type": "markdown",
   "metadata": {},
   "source": [
    "```sh\n",
    "pip install -e .\n",
    "\n",
    "# install from pypi\n",
    "pip install env2ini\n",
    "```"
   ]
  },
  {
   "attachments": {},
   "cell_type": "markdown",
   "metadata": {},
   "source": [
    "### nbdev"
   ]
  },
  {
   "attachments": {},
   "cell_type": "markdown",
   "metadata": {},
   "source": [
    "```sh\n",
    "# activate conda environment\n",
    "$ conda activate env2ini\n",
    "\n",
    "# make sure the env2ini package is installed in development mode\n",
    "$ pip install -e .\n",
    "\n",
    "# make changes under nbs/ directory\n",
    "# ...\n",
    "\n",
    "# compile to have changes apply to the ivanova package\n",
    "$ nbdev_prepare\n",
    "```"
   ]
  },
  {
   "attachments": {},
   "cell_type": "markdown",
   "metadata": {},
   "source": [
    "### env_to_ini.py"
   ]
  },
  {
   "attachments": {},
   "cell_type": "markdown",
   "metadata": {},
   "source": [
    "This script is provided so that if the `env.yml` (or `env.mac.yml`) file changes you can automatically update the depedencies of the `env2ini` package (under `settings.ini`) to match."
   ]
  },
  {
   "attachments": {},
   "cell_type": "markdown",
   "metadata": {},
   "source": [
    "```sh\n",
    "$ python env_to_ini.py\n",
    "\n",
    "# show packages that didnt change\n",
    "$ python env_to_ini.py  --unchanged  \n",
    "\n",
    "# specify a different environment file\n",
    "$ python env_to_ini.py  --unchanged  --file=env.mac.yml\n",
    "```"
   ]
  },
  {
   "attachments": {},
   "cell_type": "markdown",
   "metadata": {},
   "source": [
    "# Usage"
   ]
  },
  {
   "attachments": {},
   "cell_type": "markdown",
   "metadata": {},
   "source": [
    "You can also update the conda environment file to modify the behavior under a key `env2ini`:"
   ]
  },
  {
   "attachments": {},
   "cell_type": "markdown",
   "metadata": {},
   "source": [
    "```yml\n",
    "env2ini:\n",
    "\n",
    "  ignore:\n",
    "    - python\n",
    "    - pip\n",
    "\n",
    "  aliases:\n",
    "    torch: pytorch\n",
    "    lightning: pytorch-lightning\n",
    "```"
   ]
  },
  {
   "attachments": {},
   "cell_type": "markdown",
   "metadata": {},
   "source": [
    "**Note**: doing so will yield a warning which looks like this:\n",
    "\n",
    "```sh\n",
    "EnvironmentSectionNotValid: The following section on 'path/to/file/env.yml' is invalid and will be ignored:\n",
    " - env2ini\n",
    " ```"
   ]
  },
  {
   "attachments": {},
   "cell_type": "markdown",
   "metadata": {},
   "source": [
    "Here is the full environment file used to make this package for reference:"
   ]
  },
  {
   "attachments": {},
   "cell_type": "markdown",
   "metadata": {},
   "source": [
    "```yml\n",
    "name: env2ini\n",
    "channels:  \n",
    "  - conda-forge  \n",
    "  - fastai\n",
    "\n",
    "dependencies:  \n",
    "  - python>=3.10\n",
    "\n",
    " # Utilities\n",
    " # -------------------------------------------------------------------------\n",
    "  - tqdm\n",
    "  - rich\n",
    "  - typer\n",
    "\n",
    "  # Jupyter Notebook\n",
    "  # -------------------------------------------------------------------------\n",
    "  - conda-forge::notebook\n",
    "  - conda-forge::ipykernel\n",
    "  - conda-forge::ipywidgets\n",
    "  - conda-forge::jupyter_contrib_nbextensions\n",
    "  \n",
    "  # nbdev\n",
    "  # -------------------------------------------------------------------------\n",
    "  - fastai::nbdev>=2.3.12\n",
    "\n",
    "env2ini:\n",
    "  ignore:\n",
    "    - python\n",
    "    - pip\n",
    "  aliases:\n",
    "    torch: pytorch\n",
    "    torchvision: pytorch\n",
    "```"
   ]
  },
  {
   "attachments": {},
   "cell_type": "markdown",
   "metadata": {},
   "source": []
  }
 ],
 "metadata": {},
 "nbformat": 4,
 "nbformat_minor": 2
}
