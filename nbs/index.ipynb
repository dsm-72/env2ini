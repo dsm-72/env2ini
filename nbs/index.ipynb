{
 "cells": [
  {
   "cell_type": "code",
   "execution_count": null,
   "metadata": {},
   "outputs": [],
   "source": [
    "#| hide\n",
    "from env2ini.dataclasses import *"
   ]
  },
  {
   "attachments": {},
   "cell_type": "markdown",
   "metadata": {},
   "source": [
    "# env2ini\n",
    "\n",
    "> export a conda environment file dependencies for an ini file"
   ]
  },
  {
   "attachments": {},
   "cell_type": "markdown",
   "metadata": {},
   "source": [
    "## Developer Guide"
   ]
  },
  {
   "attachments": {},
   "cell_type": "markdown",
   "metadata": {},
   "source": [
    "### Setup"
   ]
  },
  {
   "attachments": {},
   "cell_type": "markdown",
   "metadata": {},
   "source": [
    "```sh\n",
    "# create conda environment\n",
    "$ mamba env create -f env.yml\n",
    "\n",
    "# update conda environment\n",
    "$ mamba env update -n env2ini --file env.yml\n",
    "# $ mamba env update -n env2ini --file env.mac.yml\n",
    "```"
   ]
  },
  {
   "attachments": {},
   "cell_type": "markdown",
   "metadata": {},
   "source": [
    "### Install"
   ]
  },
  {
   "attachments": {},
   "cell_type": "markdown",
   "metadata": {},
   "source": [
    "```sh\n",
    "pip install -e .\n",
    "\n",
    "# install from pypi\n",
    "pip install env2ini\n",
    "```"
   ]
  },
  {
   "attachments": {},
   "cell_type": "markdown",
   "metadata": {},
   "source": [
    "### nbdev"
   ]
  },
  {
   "attachments": {},
   "cell_type": "markdown",
   "metadata": {},
   "source": [
    "```sh\n",
    "# activate conda environment\n",
    "$ conda activate env2ini\n",
    "\n",
    "# make sure the env2ini package is installed in development mode\n",
    "$ pip install -e .\n",
    "\n",
    "# make changes under nbs/ directory\n",
    "# ...\n",
    "\n",
    "# compile to have changes apply to the env2ini package\n",
    "$ nbdev_prepare\n",
    "```"
   ]
  },
  {
   "attachments": {},
   "cell_type": "markdown",
   "metadata": {},
   "source": [
    "### Publishing"
   ]
  },
  {
   "attachments": {},
   "cell_type": "markdown",
   "metadata": {},
   "source": [
    "```sh\n",
    "# publish to pypi\n",
    "$ nbdev_pypi\n",
    "\n",
    "# publish to conda\n",
    "$ nbdev_conda\n",
    "```"
   ]
  },
  {
   "attachments": {},
   "cell_type": "markdown",
   "metadata": {},
   "source": [
    "# Usage"
   ]
  },
  {
   "attachments": {},
   "cell_type": "markdown",
   "metadata": {},
   "source": [
    "## Installation"
   ]
  },
  {
   "attachments": {},
   "cell_type": "markdown",
   "metadata": {},
   "source": [
    "Install latest from the GitHub [repository][repo]:\n",
    "\n",
    "```sh\n",
    "$ pip install git+https://github.com/dsm-72/env2ini.git\n",
    "```\n",
    "\n",
    "or from [conda][conda]\n",
    "\n",
    "```sh\n",
    "$ conda install -c dsm-72 env2ini\n",
    "```\n",
    "\n",
    "or from [pypi][pypi]\n",
    "\n",
    "\n",
    "```sh\n",
    "$ pip install env2ini\n",
    "```\n",
    "\n",
    "\n",
    "[repo]: https://github.com/dsm-72/env2ini\n",
    "[docs]: https://dsm-72.github.io/env2ini/\n",
    "[pypi]: https://pypi.org/project/env2ini/\n",
    "[conda]: https://anaconda.org/dsm-72/env2ini"
   ]
  },
  {
   "attachments": {},
   "cell_type": "markdown",
   "metadata": {},
   "source": [
    "## Documentation"
   ]
  },
  {
   "attachments": {},
   "cell_type": "markdown",
   "metadata": {},
   "source": [
    "Documentation can be found hosted on GitHub [repository][repo] [pages][docs]. Additionally you can find package manager specific guidelines on [conda][conda] and [pypi][pypi] respectively.\n",
    "\n",
    "[repo]: https://github.com/dsm-72/env2ini\n",
    "[docs]: https://dsm-72.github.io/env2ini/\n",
    "[pypi]: https://pypi.org/project/env2ini/\n",
    "[conda]: https://anaconda.org/dsm-72/env2ini"
   ]
  },
  {
   "attachments": {},
   "cell_type": "markdown",
   "metadata": {},
   "source": [
    "```shell\n",
    "$ env2ini --help\n",
    "```"
   ]
  },
  {
   "attachments": {},
   "cell_type": "markdown",
   "metadata": {},
   "source": [
    "| Option                | Short Option | Type | Description                                                                                           | Default Value       |\n",
    "|-----------------------|--------------|------|-------------------------------------------------------------------------------------------------------|---------------------|\n",
    "| `--file`              | `-f`         | TEXT | YAML file to extract the new requirements from.                                                       | `env.yml`           |\n",
    "| `--ini-file`          | `-i`         | TEXT | The `settings.ini` file to update.                                                                    | `settings.ini`      |\n",
    "| `--mps`             | `-m`         |      | Whether or not to use the mps env file (`{os.path.basename(file)}.mps.yml`).                        |                     |\n",
    "| `--dryrun`            | `-d`         |      | Whether to actually update the `settings.ini` file or just print the changes.                          |                     |\n",
    "| `--unchanged`         | `-u`, `-a`   |      | Whether to print all packages, including the ones whose versions haven't changed.                      |                     |\n",
    "| `--ignore`            | `-ig`        | TEXT | List of dependencies to ignore.                                                                       | `None`              |\n",
    "| `--alias`             | `-al`        | TEXT | Dictionary of aliases for conda dependencies in the format: `package1:alias1;package2:alias2`.       | `None`              |\n",
    "| `--confirm`           | `-c`         |      | Ask for confirmation before writing to the `ini` file.                                                | `True`              |\n",
    "| `--install-completion`|              |      | Install completion for the current shell.                                                             |                     |\n",
    "| `--show-completion`   |              |      | Show completion for the current shell, to copy it or customize the installation.                      |                     |\n",
    "| `--help`              |              |      | Show this message and exit.                                                                          |                     |"
   ]
  },
  {
   "attachments": {},
   "cell_type": "markdown",
   "metadata": {},
   "source": [
    "You can also update the conda environment file to modify the behavior under a key `env2ini`:"
   ]
  },
  {
   "attachments": {},
   "cell_type": "markdown",
   "metadata": {},
   "source": [
    "```yaml\n",
    "dependencies:\n",
    "  # for conda plugins\n",
    "  - conda\n",
    "\n",
    "  # for publishing to pypi and conda\n",
    "  - twine\n",
    "  - anaconda-client\n",
    "\n",
    "# env2ini specifications\n",
    "env2ini:\n",
    "  # packages to ignore (not moved to settings.ini)\n",
    "  ignore:\n",
    "    - pip\n",
    "    - python\n",
    "    - twine\n",
    "    - anaconda-client\n",
    "    - notebook\n",
    "    - ipykernel\n",
    "    - ipywidgets\n",
    "    - jupyter_contrib_nbextensions\n",
    "  # mapping of the name of the package on conda to that of its name in pypi\n",
    "  aliases:\n",
    "    torch: pytorch\n",
    "    lightning: pytorch-lightning\n",
    "```"
   ]
  },
  {
   "attachments": {},
   "cell_type": "markdown",
   "metadata": {},
   "source": [
    "**Note**: doing so will yield a warning which looks like this:\n",
    "\n",
    "```sh\n",
    "EnvironmentSectionNotValid: The following section on 'path/to/file/env.yml' is invalid and will be ignored:\n",
    " - env2ini\n",
    " ```"
   ]
  },
  {
   "attachments": {},
   "cell_type": "markdown",
   "metadata": {},
   "source": [
    "### Example Environment File"
   ]
  },
  {
   "attachments": {},
   "cell_type": "markdown",
   "metadata": {},
   "source": [
    "Here is the full environment file can be found under `env.mps.yml` with which this package was made:"
   ]
  },
  {
   "attachments": {},
   "cell_type": "markdown",
   "metadata": {},
   "source": [
    "```yaml\n",
    "name: env2ini\n",
    "channels:  \n",
    "  - conda-forge  \n",
    "  - fastai\n",
    "\n",
    "dependencies:  \n",
    "  - python>=3.10\n",
    "\n",
    "  # Utilities\n",
    "  # -------------------------------------------------------------------------\n",
    "  - tqdm\n",
    "  - rich\n",
    "  - typer\n",
    "\n",
    "  # Jupyter Notebook\n",
    "  # -------------------------------------------------------------------------\n",
    "  - conda-forge::notebook\n",
    "  - conda-forge::ipykernel\n",
    "  - conda-forge::ipywidgets\n",
    "  - conda-forge::jupyter_contrib_nbextensions\n",
    "  \n",
    "  # nbdev\n",
    "  # -------------------------------------------------------------------------\n",
    "  - fastai::nbdev>=2.3.12\n",
    "  - pyyaml\n",
    "\n",
    "  # for conda plugins\n",
    "  - conda\n",
    "\n",
    "  # for publishing to pypi and conda\n",
    "  - twine\n",
    "  - anaconda-client\n",
    "\n",
    "env2ini:\n",
    "  ignore:\n",
    "    - pip\n",
    "    - python\n",
    "    - twine\n",
    "    - anaconda-client\n",
    "    - notebook\n",
    "    - ipykernel\n",
    "    - ipywidgets\n",
    "    - jupyter_contrib_nbextensions\n",
    "  aliases:\n",
    "    torch: pytorch\n",
    "    lightning: pytorch-lightning\n",
    "```"
   ]
  },
  {
   "attachments": {},
   "cell_type": "markdown",
   "metadata": {},
   "source": [
    "## Legacy\n",
    "the deprecated original script `env_to_ini.py`"
   ]
  },
  {
   "attachments": {},
   "cell_type": "markdown",
   "metadata": {},
   "source": [
    "### env_to_ini.py"
   ]
  },
  {
   "attachments": {},
   "cell_type": "markdown",
   "metadata": {},
   "source": [
    "This script is not a part of the package. It is however provided to show where the project came from. It was designed so that if your `env.yml` (or `env.mac.yml`) file changes you can automatically update the depedencies of the `env2ini` package (under `settings.ini`) to match."
   ]
  },
  {
   "attachments": {},
   "cell_type": "markdown",
   "metadata": {},
   "source": [
    "```sh\n",
    "$ python env_to_ini.py\n",
    "\n",
    "# show packages that didnt change\n",
    "$ python env_to_ini.py  --unchanged  \n",
    "\n",
    "# specify a different environment file\n",
    "$ python env_to_ini.py  --unchanged  --file=env.mac.yml\n",
    "```"
   ]
  }
 ],
 "metadata": {},
 "nbformat": 4,
 "nbformat_minor": 2
}
