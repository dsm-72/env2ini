{
 "cells": [
  {
   "attachments": {},
   "cell_type": "markdown",
   "metadata": {},
   "source": [
    "# constants\n",
    "\n",
    "> constants."
   ]
  },
  {
   "cell_type": "code",
   "execution_count": null,
   "metadata": {},
   "outputs": [],
   "source": [
    "#| default_exp constants"
   ]
  },
  {
   "cell_type": "code",
   "execution_count": null,
   "metadata": {},
   "outputs": [],
   "source": [
    "#| hide\n",
    "from nbdev.showdoc import *"
   ]
  },
  {
   "cell_type": "code",
   "execution_count": null,
   "metadata": {},
   "outputs": [],
   "source": [
    "#| export\n",
    "\n",
    "PIP = 'pip'\n",
    "\n",
    "DEP_SEP = '::'\n",
    "\n",
    "PYPI_NAME = 'pypi_name'\n",
    "\n",
    "CONDA_NAME = 'conda_name'\n",
    "\n",
    "SETTINGS_INI = 'settings.ini'\n",
    "\n",
    "DEFAULT_DEPENDENCIES_TO_IGNORE = ['python', 'pip']\n",
    "\n",
    "ENV_DEPENDENCIES = 'dependencies'\n",
    "\n",
    "INI_REQUIREMENTS = 'requirements'"
   ]
  },
  {
   "cell_type": "code",
   "execution_count": null,
   "metadata": {},
   "outputs": [],
   "source": [
    "#| hide\n",
    "import nbdev; nbdev.nbdev_export()"
   ]
  }
 ],
 "metadata": {
  "kernelspec": {
   "display_name": "python3",
   "language": "python",
   "name": "python3"
  }
 },
 "nbformat": 4,
 "nbformat_minor": 2
}
